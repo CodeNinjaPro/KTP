{
 "cells": [
  {
   "cell_type": "code",
   "execution_count": null,
   "metadata": {},
   "outputs": [],
   "source": [
    "# Import necessary libraries\n",
    "import pandas as pd\n",
    "import numpy as np\n",
    "import matplotlib.pyplot as plt\n",
    "import seaborn as sns"
   ]
  },
  {
   "cell_type": "code",
   "execution_count": null,
   "metadata": {},
   "outputs": [],
   "source": [
    "# Load the data\n",
    "data = pd.read_csv('TVC_logger_1_sedge.csv')\n",
    "data['DateTime'] = pd.to_datetime(data['DateTime'], format='%d/%m/%Y %H:%M')\n",
    "data.set_index('DateTime', inplace=True)\n"
   ]
  },
  {
   "cell_type": "code",
   "execution_count": null,
   "metadata": {},
   "outputs": [],
   "source": [
    "# Display the first few rows of the dataset\n",
    "data.head()"
   ]
  },
  {
   "cell_type": "code",
   "execution_count": null,
   "metadata": {},
   "outputs": [],
   "source": [
    "# Calculate the correlation matrix\n",
    "correlation_matrix = data.corr()\n",
    "\n",
    "# Plot the correlation matrix as a heatmap\n",
    "plt.figure(figsize=(10, 8))\n",
    "sns.heatmap(correlation_matrix, annot=True, cmap='coolwarm', vmin=-1, vmax=1)\n",
    "plt.title('Correlation Matrix')\n",
    "plt.show()"
   ]
  },
  {
   "cell_type": "code",
   "execution_count": null,
   "metadata": {},
   "outputs": [],
   "source": [
    "# Scatter plots to visualize correlations\n",
    "plt.figure(figsize=(12, 6))\n",
    "\n",
    "# Temperature vs Humidity\n",
    "plt.subplot(1, 3, 1)\n",
    "plt.scatter(data['temp'], data['humidity'])\n",
    "plt.title('Temperature vs Humidity')\n",
    "plt.xlabel('Temperature')\n",
    "plt.ylabel('Humidity')\n",
    "\n",
    "# Temperature vs VWC\n",
    "plt.subplot(1, 3, 2)\n",
    "plt.scatter(data['temp'], data['vwc'])\n",
    "plt.title('Temperature vs VWC')\n",
    "plt.xlabel('Temperature')\n",
    "plt.ylabel('VWC')\n",
    "\n",
    "# Humidity vs VWC\n",
    "plt.subplot(1, 3, 3)\n",
    "plt.scatter(data['humidity'], data['vwc'])\n",
    "plt.title('Humidity vs VWC')\n",
    "plt.xlabel('Humidity')\n",
    "plt.ylabel('VWC')\n",
    "\n",
    "plt.tight_layout()\n",
    "plt.show()\n",
    "\n",
    "# Additional pair plots using seaborn\n",
    "sns.pairplot(data)\n",
    "plt.show()"
   ]
  }
 ],
 "metadata": {
  "kernelspec": {
   "display_name": "KTP",
   "language": "python",
   "name": "python3"
  },
  "language_info": {
   "name": "python",
   "version": "3.8.19"
  }
 },
 "nbformat": 4,
 "nbformat_minor": 2
}
